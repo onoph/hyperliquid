{
 "cells": [
  {
   "cell_type": "code",
   "id": "initial_id",
   "metadata": {
    "collapsed": true,
    "ExecuteTime": {
     "end_time": "2025-05-27T21:23:24.208438Z",
     "start_time": "2025-05-27T21:23:11.908593Z"
    }
   },
   "source": [
    "from src.generic.algo import Algo\n",
    "from src.generic.polling import AlgoPolling, InitialPollingAction"
   ],
   "outputs": [
    {
     "name": "stdout",
     "output_type": "stream",
     "text": [
      "(\"Full account data: {'info': {'marginSummary': {'accountValue': '756.043317', \"\n",
      " \"'totalNtlPos': '0.0', 'totalRawUsd': '756.043317', 'totalMarginUsed': \"\n",
      " \"'0.0'}, 'crossMarginSummary': {'accountValue': '756.043317', 'totalNtlPos': \"\n",
      " \"'0.0', 'totalRawUsd': '756.043317', 'totalMarginUsed': '0.0'}, \"\n",
      " \"'crossMaintenanceMarginUsed': '0.0', 'withdrawable': '756.043317', \"\n",
      " \"'assetPositions': [], 'time': '1748380996417'}, 'USDC': {'total': \"\n",
      " \"756.043317, 'free': 756.043317, 'used': 0.0}, 'timestamp': 1748380996417, \"\n",
      " \"'datetime': '2025-05-27T21:23:16.417Z', 'free': {'USDC': 756.043317}, \"\n",
      " \"'used': {'USDC': 0.0}, 'total': {'USDC': 756.043317}}\")\n",
      "Initial buy quantity: 0.004585728447628796 - unit : 0.004585728447628796\n"
     ]
    },
    {
     "ename": "MissingValueError",
     "evalue": "missing value for field \"info.coin\"",
     "output_type": "error",
     "traceback": [
      "\u001B[31m---------------------------------------------------------------------------\u001B[39m",
      "\u001B[31mMissingValueError\u001B[39m                         Traceback (most recent call last)",
      "\u001B[36mCell\u001B[39m\u001B[36m \u001B[39m\u001B[32mIn[1]\u001B[39m\u001B[32m, line 5\u001B[39m\n\u001B[32m      2\u001B[39m \u001B[38;5;28;01mfrom\u001B[39;00m\u001B[38;5;250m \u001B[39m\u001B[34;01msrc\u001B[39;00m\u001B[34;01m.\u001B[39;00m\u001B[34;01mgeneric\u001B[39;00m\u001B[34;01m.\u001B[39;00m\u001B[34;01mpolling\u001B[39;00m\u001B[38;5;250m \u001B[39m\u001B[38;5;28;01mimport\u001B[39;00m AlgoPolling, InitialPollingAction\n\u001B[32m      4\u001B[39m algo = Algo(\u001B[33m'\u001B[39m\u001B[33mBTC\u001B[39m\u001B[33m'\u001B[39m, \u001B[33m'\u001B[39m\u001B[33mUSDC\u001B[39m\u001B[33m'\u001B[39m)\n\u001B[32m----> \u001B[39m\u001B[32m5\u001B[39m polling = \u001B[43mAlgoPolling\u001B[49m\u001B[43m(\u001B[49m\u001B[43malgo\u001B[49m\u001B[43m,\u001B[49m\u001B[43m \u001B[49m\u001B[43minitial_action\u001B[49m\u001B[43m=\u001B[49m\u001B[43mInitialPollingAction\u001B[49m\u001B[43m.\u001B[49m\u001B[43mINIT\u001B[49m\u001B[43m)\u001B[49m\n",
      "\u001B[36mFile \u001B[39m\u001B[32m~/Projets/hyperliquid/src/generic/polling.py:14\u001B[39m, in \u001B[36mAlgoPolling.__init__\u001B[39m\u001B[34m(self, algo, initial_action, interval)\u001B[39m\n\u001B[32m     12\u001B[39m \u001B[38;5;28mself\u001B[39m.algo = algo\n\u001B[32m     13\u001B[39m \u001B[38;5;28;01mif\u001B[39;00m initial_action == InitialPollingAction.INIT:\n\u001B[32m---> \u001B[39m\u001B[32m14\u001B[39m     \u001B[38;5;28;43mself\u001B[39;49m\u001B[43m.\u001B[49m\u001B[43malgo\u001B[49m\u001B[43m.\u001B[49m\u001B[43minitialize_positions\u001B[49m\u001B[43m(\u001B[49m\u001B[43m)\u001B[49m\n\u001B[32m     15\u001B[39m \u001B[38;5;28;01melif\u001B[39;00m initial_action == InitialPollingAction.RECOVER_POSITIONS:\n\u001B[32m     16\u001B[39m     \u001B[38;5;28mself\u001B[39m.algo.retrieve_previous_orders()\n",
      "\u001B[36mFile \u001B[39m\u001B[32m~/Projets/hyperliquid/src/generic/algo.py:130\u001B[39m, in \u001B[36mAlgo.initialize_positions\u001B[39m\u001B[34m(self)\u001B[39m\n\u001B[32m    128\u001B[39m \u001B[38;5;66;03m# create initial OL and CL positions\u001B[39;00m\n\u001B[32m    129\u001B[39m gap = \u001B[38;5;28mself\u001B[39m.get_gap()\n\u001B[32m--> \u001B[39m\u001B[32m130\u001B[39m \u001B[38;5;28;43mself\u001B[39;49m\u001B[43m.\u001B[49m\u001B[43mdex\u001B[49m\u001B[43m.\u001B[49m\u001B[43mcreate_open_long\u001B[49m\u001B[43m(\u001B[49m\u001B[43mqty\u001B[49m\u001B[43m=\u001B[49m\u001B[43minitial_buy_qty\u001B[49m\u001B[43m,\u001B[49m\u001B[43m \u001B[49m\u001B[43mprice\u001B[49m\u001B[43m=\u001B[49m\u001B[43mcurrent_price\u001B[49m\u001B[43m \u001B[49m\u001B[43m-\u001B[49m\u001B[43m \u001B[49m\u001B[43mgap\u001B[49m\u001B[43m)\u001B[49m\n\u001B[32m    131\u001B[39m \u001B[38;5;28mself\u001B[39m.dex.create_close_long(qty=initial_buy_qty, price=current_price + gap)\n",
      "\u001B[36mFile \u001B[39m\u001B[32m~/Projets/hyperliquid/src/generic/cctx_api.py:55\u001B[39m, in \u001B[36mDex.create_open_long\u001B[39m\u001B[34m(self, qty, price)\u001B[39m\n\u001B[32m     53\u001B[39m \u001B[38;5;28mself\u001B[39m.logger.info(\u001B[33mf\u001B[39m\u001B[33m\"\u001B[39m\u001B[33mapi - Creating long limit order : \u001B[39m\u001B[38;5;132;01m{\u001B[39;00mqty\u001B[38;5;132;01m}\u001B[39;00m\u001B[33m at \u001B[39m\u001B[38;5;132;01m{\u001B[39;00mprice\u001B[38;5;132;01m}\u001B[39;00m\u001B[33m\"\u001B[39m)\n\u001B[32m     54\u001B[39m order = \u001B[38;5;28mself\u001B[39m.dex.create_order(\u001B[38;5;28mself\u001B[39m.get_symbol(), \u001B[33m'\u001B[39m\u001B[33mlimit\u001B[39m\u001B[33m'\u001B[39m, \u001B[33m'\u001B[39m\u001B[33mbuy\u001B[39m\u001B[33m'\u001B[39m, qty, price)\n\u001B[32m---> \u001B[39m\u001B[32m55\u001B[39m \u001B[38;5;28;01mreturn\u001B[39;00m \u001B[43mparse_order\u001B[49m\u001B[43m(\u001B[49m\u001B[43morder\u001B[49m\u001B[43m)\u001B[49m\n",
      "\u001B[36mFile \u001B[39m\u001B[32m~/Projets/hyperliquid/src/generic/cctx_mapper.py:8\u001B[39m, in \u001B[36mparse_order\u001B[39m\u001B[34m(api_data)\u001B[39m\n\u001B[32m      7\u001B[39m \u001B[38;5;28;01mdef\u001B[39;00m\u001B[38;5;250m \u001B[39m\u001B[34mparse_order\u001B[39m(api_data) -> Order:\n\u001B[32m----> \u001B[39m\u001B[32m8\u001B[39m     \u001B[38;5;28;01mreturn\u001B[39;00m \u001B[43mdacite\u001B[49m\u001B[43m.\u001B[49m\u001B[43mfrom_dict\u001B[49m\u001B[43m(\u001B[49m\u001B[43mOrder\u001B[49m\u001B[43m,\u001B[49m\u001B[43m \u001B[49m\u001B[43mapi_data\u001B[49m\u001B[43m)\u001B[49m\n",
      "\u001B[36mFile \u001B[39m\u001B[32m~/Projets/hyperliquid/.venv/lib/python3.12/site-packages/dacite/core.py:69\u001B[39m, in \u001B[36mfrom_dict\u001B[39m\u001B[34m(data_class, data, config)\u001B[39m\n\u001B[32m     67\u001B[39m \u001B[38;5;28;01mif\u001B[39;00m key \u001B[38;5;129;01min\u001B[39;00m data:\n\u001B[32m     68\u001B[39m     \u001B[38;5;28;01mtry\u001B[39;00m:\n\u001B[32m---> \u001B[39m\u001B[32m69\u001B[39m         value = \u001B[43m_build_value\u001B[49m\u001B[43m(\u001B[49m\u001B[43mtype_\u001B[49m\u001B[43m=\u001B[49m\u001B[43mfield_type\u001B[49m\u001B[43m,\u001B[49m\u001B[43m \u001B[49m\u001B[43mdata\u001B[49m\u001B[43m=\u001B[49m\u001B[43mdata\u001B[49m\u001B[43m[\u001B[49m\u001B[43mkey\u001B[49m\u001B[43m]\u001B[49m\u001B[43m,\u001B[49m\u001B[43m \u001B[49m\u001B[43mconfig\u001B[49m\u001B[43m=\u001B[49m\u001B[43mconfig\u001B[49m\u001B[43m)\u001B[49m\n\u001B[32m     70\u001B[39m     \u001B[38;5;28;01mexcept\u001B[39;00m DaciteFieldError \u001B[38;5;28;01mas\u001B[39;00m error:\n\u001B[32m     71\u001B[39m         error.update_path(field.name)\n",
      "\u001B[36mFile \u001B[39m\u001B[32m~/Projets/hyperliquid/.venv/lib/python3.12/site-packages/dacite/core.py:107\u001B[39m, in \u001B[36m_build_value\u001B[39m\u001B[34m(type_, data, config)\u001B[39m\n\u001B[32m    105\u001B[39m     data = _build_value_for_collection(collection=type_, data=data, config=config)\n\u001B[32m    106\u001B[39m \u001B[38;5;28;01melif\u001B[39;00m cache(is_dataclass)(orig(type_)) \u001B[38;5;129;01mand\u001B[39;00m \u001B[38;5;28misinstance\u001B[39m(data, Mapping):\n\u001B[32m--> \u001B[39m\u001B[32m107\u001B[39m     data = \u001B[43mfrom_dict\u001B[49m\u001B[43m(\u001B[49m\u001B[43mdata_class\u001B[49m\u001B[43m=\u001B[49m\u001B[43mtype_\u001B[49m\u001B[43m,\u001B[49m\u001B[43m \u001B[49m\u001B[43mdata\u001B[49m\u001B[43m=\u001B[49m\u001B[43mdata\u001B[49m\u001B[43m,\u001B[49m\u001B[43m \u001B[49m\u001B[43mconfig\u001B[49m\u001B[43m=\u001B[49m\u001B[43mconfig\u001B[49m\u001B[43m)\u001B[49m\n\u001B[32m    108\u001B[39m \u001B[38;5;28;01mfor\u001B[39;00m cast_type \u001B[38;5;129;01min\u001B[39;00m config.cast:\n\u001B[32m    109\u001B[39m     \u001B[38;5;28;01mif\u001B[39;00m is_subclass(type_, cast_type):\n",
      "\u001B[36mFile \u001B[39m\u001B[32m~/Projets/hyperliquid/.venv/lib/python3.12/site-packages/dacite/core.py:81\u001B[39m, in \u001B[36mfrom_dict\u001B[39m\u001B[34m(data_class, data, config)\u001B[39m\n\u001B[32m     79\u001B[39m         \u001B[38;5;28;01mif\u001B[39;00m \u001B[38;5;129;01mnot\u001B[39;00m field.init:\n\u001B[32m     80\u001B[39m             \u001B[38;5;28;01mcontinue\u001B[39;00m\n\u001B[32m---> \u001B[39m\u001B[32m81\u001B[39m         \u001B[38;5;28;01mraise\u001B[39;00m MissingValueError(field.name) \u001B[38;5;28;01mfrom\u001B[39;00m\u001B[38;5;250m \u001B[39m\u001B[38;5;28;01mNone\u001B[39;00m\n\u001B[32m     82\u001B[39m \u001B[38;5;28;01mif\u001B[39;00m field.init:\n\u001B[32m     83\u001B[39m     init_values[field.name] = value\n",
      "\u001B[31mMissingValueError\u001B[39m: missing value for field \"info.coin\""
     ]
    }
   ],
   "execution_count": 1
  }
 ],
 "metadata": {
  "kernelspec": {
   "display_name": "Python 3",
   "language": "python",
   "name": "python3"
  },
  "language_info": {
   "codemirror_mode": {
    "name": "ipython",
    "version": 2
   },
   "file_extension": ".py",
   "mimetype": "text/x-python",
   "name": "python",
   "nbconvert_exporter": "python",
   "pygments_lexer": "ipython2",
   "version": "2.7.6"
  }
 },
 "nbformat": 4,
 "nbformat_minor": 5
}
