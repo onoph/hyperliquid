{
 "cells": [
  {
   "cell_type": "code",
   "id": "initial_id",
   "metadata": {
    "collapsed": true,
    "ExecuteTime": {
     "end_time": "2025-05-27T08:26:46.959311Z",
     "start_time": "2025-05-27T08:26:46.401691Z"
    }
   },
   "source": [
    "from src.generic.cctx_api import Dex\n",
    "from src.generic.algo import Algo\n",
    "\n",
    "\n",
    "dex = Dex('BTC', 'USDC')\n",
    "data = dex.get_full_account_data()\n",
    "print(data.info.crossMarginSummary)\n",
    "\n",
    "\n",
    "algo = Algo('BTC', 'USDC')\n",
    "algo.compute_adaptive_order_qty(10000, data)"
   ],
   "outputs": [
    {
     "name": "stdout",
     "output_type": "stream",
     "text": [
      "MarginSummary(accountValue=761.592471, totalNtlPos=3940.41336, totalRawUsd=-3178.820889, totalMarginUsed=197.020668)\n"
     ]
    },
    {
     "data": {
      "text/plain": [
       "0.0623898782"
      ]
     },
     "execution_count": 3,
     "metadata": {},
     "output_type": "execute_result"
    }
   ],
   "execution_count": 3
  }
 ],
 "metadata": {
  "kernelspec": {
   "display_name": "Python 3",
   "language": "python",
   "name": "python3"
  },
  "language_info": {
   "codemirror_mode": {
    "name": "ipython",
    "version": 2
   },
   "file_extension": ".py",
   "mimetype": "text/x-python",
   "name": "python",
   "nbconvert_exporter": "python",
   "pygments_lexer": "ipython2",
   "version": "2.7.6"
  }
 },
 "nbformat": 4,
 "nbformat_minor": 5
}
