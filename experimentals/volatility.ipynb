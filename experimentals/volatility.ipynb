{
 "cells": [
  {
   "cell_type": "code",
   "execution_count": null,
   "id": "initial_id",
   "metadata": {
    "collapsed": true
   },
   "outputs": [],
   "source": [
    ""
   ]
  },
  {
   "metadata": {},
   "cell_type": "code",
   "outputs": [],
   "execution_count": null,
   "source": [
    "import yfinance as yf\n",
    "import pandas_ta as ta\n",
    "\n",
    "# Charger les données BTC/USD sur 1 an\n",
    "df = yf.download('BTC-USD', period='1y', interval='1d')\n",
    "df['ATR'] = ta.atr(df['High'], df['Low'], df['Close'], length=14)\n",
    "df['bb_bbm'], df['bb_bbh'], df['bb_bbl'] = ta.bbands(df['Close'], length=20)\n",
    "\n",
    "# Percentile ATR\n",
    "atr_now = df['ATR'].iloc[-1]\n",
    "atr_percentile = (df['ATR'] < atr_now).mean()\n",
    "\n",
    "if atr_percentile < 0.33:\n",
    "    print(\"Volatilité faible (ATR)\")\n",
    "elif atr_percentile < 0.66:\n",
    "    print(\"Volatilité moyenne (ATR)\")\n",
    "else:\n",
    "    print(\"Volatilité forte (ATR)\")\n",
    "\n",
    "# Percentile bandes de Bollinger\n",
    "bb_width = df['bb_bbh'] - df['bb_bbl']\n",
    "width_now = bb_width.iloc[-1]\n",
    "width_percentile = (bb_width < width_now).mean()\n",
    "\n",
    "if width_percentile < 0.33:\n",
    "    print(\"Volatilité faible (Bollinger)\")\n",
    "elif width_percentile < 0.66:\n",
    "    print(\"Volatilité moyenne (Bollinger)\")\n",
    "else:\n",
    "    print(\"Volatilité forte (Bollinger)\")\n"
   ],
   "id": "2d9cbb94f9887eae"
  }
 ],
 "metadata": {
  "kernelspec": {
   "display_name": "Python 3",
   "language": "python",
   "name": "python3"
  },
  "language_info": {
   "codemirror_mode": {
    "name": "ipython",
    "version": 2
   },
   "file_extension": ".py",
   "mimetype": "text/x-python",
   "name": "python",
   "nbconvert_exporter": "python",
   "pygments_lexer": "ipython2",
   "version": "2.7.6"
  }
 },
 "nbformat": 4,
 "nbformat_minor": 5
}
